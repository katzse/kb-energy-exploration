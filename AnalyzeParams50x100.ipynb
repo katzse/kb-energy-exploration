{
 "cells": [
  {
   "cell_type": "code",
   "execution_count": 1,
   "metadata": {},
   "outputs": [],
   "source": [
    "import os\n",
    "import pandas as pd\n",
    "import numpy as np"
   ]
  },
  {
   "cell_type": "code",
   "execution_count": 2,
   "metadata": {},
   "outputs": [],
   "source": [
    "# Change directory \n",
    "os.chdir(\"C:/Kate/Bioinformatics/Diplom/Resample50x100/\")\n",
    "\n",
    "# Cycle trhough all samples to and concatenate all the samples in one DataFRame\n",
    "df = pd.DataFrame()\n",
    "for i in range(100):\n",
    "    file = 'Sample'+str(i)+'.xlsx'\n",
    "    xf = pd.ExcelFile(file)\n",
    "    dfSample = xf.parse('KBES')\n",
    "    df = pd.concat([df, dfSample])\n",
    "\n",
    "# Group the values from the huge DF in groups for every value\n",
    "dfGroups = df.groupby(level=0)\n",
    "# Calculate the mean, std and var of every group of values\n",
    "dfMean = dfGroups.mean()\n",
    "dfStd = dfGroups.std()\n",
    "dfVar = dfGroups.var()"
   ]
  },
  {
   "cell_type": "code",
   "execution_count": 3,
   "metadata": {},
   "outputs": [],
   "source": [
    "# Get a DF from one sample in order to have the column with residue names\n",
    "file = 'Sample0.xlsx'\n",
    "xf = pd.ExcelFile(file)\n",
    "dfSample0 = xf.parse('KBES')\n",
    "\n",
    "#Add the col with Residue names to the resulting DFs\n",
    "dfMean.insert(0, 'Residue', dfSample0.Residue)\n",
    "dfStd.insert(0, 'Residue', dfSample0.Residue)\n",
    "dfVar.insert(0, 'Residue', dfSample0.Residue)"
   ]
  },
  {
   "cell_type": "code",
   "execution_count": 4,
   "metadata": {},
   "outputs": [],
   "source": [
    "describedMeans = dfMean.describe()\n",
    "describedStd = dfStd.describe()\n",
    "describedVar = dfVar.describe()"
   ]
  },
  {
   "cell_type": "code",
   "execution_count": 5,
   "metadata": {},
   "outputs": [],
   "source": [
    "os.chdir(\"C:/Kate/Bioinformatics/Diplom/Results/\")\n",
    "writer = pd.ExcelWriter(('StatParams50x100'+'.xlsx'), engine='xlsxwriter')\n",
    "\n",
    "# Write your DataFrame to a file     \n",
    "dfMean.to_excel(writer, 'mean')\n",
    "dfStd.to_excel(writer, 'std')\n",
    "dfVar.to_excel(writer, 'var')\n",
    "describedMeans.to_excel(writer, 'describedMean')\n",
    "describedStd.to_excel(writer, 'describedStd')\n",
    "describedVar.to_excel(writer, 'describedVar')\n",
    "\n",
    "# Save the result \n",
    "writer.save()"
   ]
  }
 ],
 "metadata": {
  "kernelspec": {
   "display_name": "Python 3",
   "language": "python",
   "name": "python3"
  },
  "language_info": {
   "codemirror_mode": {
    "name": "ipython",
    "version": 3
   },
   "file_extension": ".py",
   "mimetype": "text/x-python",
   "name": "python",
   "nbconvert_exporter": "python",
   "pygments_lexer": "ipython3",
   "version": "3.7.1"
  }
 },
 "nbformat": 4,
 "nbformat_minor": 2
}
