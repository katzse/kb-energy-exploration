{
 "cells": [
  {
   "cell_type": "code",
   "execution_count": 2,
   "metadata": {},
   "outputs": [],
   "source": [
    "import os\n",
    "\n",
    "# Retrieve current working directory (`cwd`)\n",
    "cwd = os.getcwd()\n",
    "cwd\n",
    "\n",
    "# Change directory \n",
    "os.chdir(\"C:/Kate/Bioinformatics/Diplom\")\n",
    "\n",
    "# List all files and directories in current directory\n",
    "#os.listdir('.')"
   ]
  },
  {
   "cell_type": "code",
   "execution_count": 3,
   "metadata": {},
   "outputs": [
    {
     "name": "stdout",
     "output_type": "stream",
     "text": [
      "['Sheet1', 'Sheet2', 'Selection', 'List']\n"
     ]
    }
   ],
   "source": [
    "import pandas as pd\n",
    "\n",
    "# Assign spreadsheet filename to `file`\n",
    "file = 'Selection_434.xlsx'\n",
    "\n",
    "# Load spreadsheet\n",
    "xl = pd.ExcelFile(file)\n",
    "\n",
    "# Print the sheet names\n",
    "print(xl.sheet_names)\n",
    "\n",
    "# Load a sheet into a DataFrame by name: df\n",
    "df = xl.parse('List')\n",
    "\n",
    "#Convert dataFrame to list\n",
    "names = df[\"Names\"].tolist()\n"
   ]
  },
  {
   "cell_type": "code",
   "execution_count": null,
   "metadata": {},
   "outputs": [],
   "source": [
    "import urllib.request\n",
    "\n",
    "url = 'https://zhanglab.ccmb.med.umich.edu/TM-align/benchmark/'\n",
    "path = 'C:/Kate/Bioinformatics/Diplom/Dataset200Structures/'\n",
    "\n",
    "#download .pdb files from a link\n",
    "for i in names:\n",
    "    urllib.request.urlretrieve((url+i), (path+i)) \n",
    "    \n",
    "  "
   ]
  }
 ],
 "metadata": {
  "kernelspec": {
   "display_name": "Python 3",
   "language": "python",
   "name": "python3"
  },
  "language_info": {
   "codemirror_mode": {
    "name": "ipython",
    "version": 3
   },
   "file_extension": ".py",
   "mimetype": "text/x-python",
   "name": "python",
   "nbconvert_exporter": "python",
   "pygments_lexer": "ipython3",
   "version": "3.7.1"
  }
 },
 "nbformat": 4,
 "nbformat_minor": 2
}
