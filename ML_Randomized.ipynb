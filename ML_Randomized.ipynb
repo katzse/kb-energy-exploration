{
 "cells": [
  {
   "cell_type": "code",
   "execution_count": 1,
   "metadata": {},
   "outputs": [],
   "source": [
    "import os\n",
    "import pandas as pd\n",
    "import numpy as np\n",
    "import random\n",
    "import math\n",
    "from decimal import Decimal\n",
    "\n",
    "#from sklearn.utils import resample\n",
    "from sklearn.utils import shuffle\n",
    "\n",
    "from sklearn import linear_model\n",
    "from sklearn import svm\n",
    "from sklearn import tree\n",
    "from sklearn.neighbors import KNeighborsRegressor\n",
    "\n",
    "from sklearn.preprocessing import Normalizer\n",
    "\n",
    "import matplotlib.pyplot as plt"
   ]
  },
  {
   "cell_type": "code",
   "execution_count": 2,
   "metadata": {},
   "outputs": [],
   "source": [
    "# Normalize and transform the values for the two parameters (X1 - seq, and X2 - pattern)\n",
    "\n",
    "def norm(a, b):\n",
    "    t1 = Normalizer().fit([a])\n",
    "    x1 = t1.transform([a])\n",
    "\n",
    "    t2 = Normalizer().fit([b])\n",
    "    x2 = t2.transform([b])\n",
    "    return x1, x2"
   ]
  },
  {
   "cell_type": "code",
   "execution_count": 3,
   "metadata": {},
   "outputs": [
    {
     "data": {
      "text/html": [
       "<div>\n",
       "<style scoped>\n",
       "    .dataframe tbody tr th:only-of-type {\n",
       "        vertical-align: middle;\n",
       "    }\n",
       "\n",
       "    .dataframe tbody tr th {\n",
       "        vertical-align: top;\n",
       "    }\n",
       "\n",
       "    .dataframe thead th {\n",
       "        text-align: right;\n",
       "    }\n",
       "</style>\n",
       "<table border=\"1\" class=\"dataframe\">\n",
       "  <thead>\n",
       "    <tr style=\"text-align: right;\">\n",
       "      <th></th>\n",
       "      <th>Unnamed: 0</th>\n",
       "      <th>name</th>\n",
       "      <th>Length</th>\n",
       "      <th>X1</th>\n",
       "      <th>X2</th>\n",
       "      <th>E</th>\n",
       "      <th>S</th>\n",
       "      <th>L</th>\n",
       "    </tr>\n",
       "  </thead>\n",
       "  <tbody>\n",
       "    <tr>\n",
       "      <th>0</th>\n",
       "      <td>0</td>\n",
       "      <td>1atx_</td>\n",
       "      <td>46</td>\n",
       "      <td>839</td>\n",
       "      <td>21.2</td>\n",
       "      <td>-1.500708</td>\n",
       "      <td>-58.865890</td>\n",
       "      <td>57.365182</td>\n",
       "    </tr>\n",
       "    <tr>\n",
       "      <th>1</th>\n",
       "      <td>1</td>\n",
       "      <td>1agg_</td>\n",
       "      <td>48</td>\n",
       "      <td>851</td>\n",
       "      <td>22.2</td>\n",
       "      <td>-1.797210</td>\n",
       "      <td>-60.767012</td>\n",
       "      <td>58.969802</td>\n",
       "    </tr>\n",
       "    <tr>\n",
       "      <th>2</th>\n",
       "      <td>2</td>\n",
       "      <td>1akhA</td>\n",
       "      <td>49</td>\n",
       "      <td>925</td>\n",
       "      <td>22.4</td>\n",
       "      <td>-5.642586</td>\n",
       "      <td>-53.350390</td>\n",
       "      <td>47.707804</td>\n",
       "    </tr>\n",
       "    <tr>\n",
       "      <th>3</th>\n",
       "      <td>3</td>\n",
       "      <td>1afp_</td>\n",
       "      <td>51</td>\n",
       "      <td>961</td>\n",
       "      <td>22.8</td>\n",
       "      <td>-5.542472</td>\n",
       "      <td>-72.049554</td>\n",
       "      <td>66.507082</td>\n",
       "    </tr>\n",
       "    <tr>\n",
       "      <th>4</th>\n",
       "      <td>4</td>\n",
       "      <td>1apq_</td>\n",
       "      <td>53</td>\n",
       "      <td>946</td>\n",
       "      <td>25.3</td>\n",
       "      <td>-3.719619</td>\n",
       "      <td>-62.522390</td>\n",
       "      <td>58.802771</td>\n",
       "    </tr>\n",
       "  </tbody>\n",
       "</table>\n",
       "</div>"
      ],
      "text/plain": [
       "   Unnamed: 0   name  Length   X1    X2         E          S          L\n",
       "0           0  1atx_      46  839  21.2 -1.500708 -58.865890  57.365182\n",
       "1           1  1agg_      48  851  22.2 -1.797210 -60.767012  58.969802\n",
       "2           2  1akhA      49  925  22.4 -5.642586 -53.350390  47.707804\n",
       "3           3  1afp_      51  961  22.8 -5.542472 -72.049554  66.507082\n",
       "4           4  1apq_      53  946  25.3 -3.719619 -62.522390  58.802771"
      ]
     },
     "execution_count": 3,
     "metadata": {},
     "output_type": "execute_result"
    }
   ],
   "source": [
    "path = 'D:/Bioinformatics/Diplom/'\n",
    "file = 'RawData_200.csv'\n",
    "dfRawData200 = pd.read_csv(path+'ML/ '+file)\n",
    "dfRawData200.head()"
   ]
  },
  {
   "cell_type": "code",
   "execution_count": 4,
   "metadata": {},
   "outputs": [
    {
     "data": {
      "text/html": [
       "<div>\n",
       "<style scoped>\n",
       "    .dataframe tbody tr th:only-of-type {\n",
       "        vertical-align: middle;\n",
       "    }\n",
       "\n",
       "    .dataframe tbody tr th {\n",
       "        vertical-align: top;\n",
       "    }\n",
       "\n",
       "    .dataframe thead th {\n",
       "        text-align: right;\n",
       "    }\n",
       "</style>\n",
       "<table border=\"1\" class=\"dataframe\">\n",
       "  <thead>\n",
       "    <tr style=\"text-align: right;\">\n",
       "      <th></th>\n",
       "      <th>Unnamed: 0</th>\n",
       "      <th>name</th>\n",
       "      <th>Length</th>\n",
       "      <th>X1</th>\n",
       "      <th>X2</th>\n",
       "      <th>E</th>\n",
       "      <th>S</th>\n",
       "      <th>L</th>\n",
       "    </tr>\n",
       "  </thead>\n",
       "  <tbody>\n",
       "    <tr>\n",
       "      <th>0</th>\n",
       "      <td>0</td>\n",
       "      <td>1ucs</td>\n",
       "      <td>64</td>\n",
       "      <td>1277</td>\n",
       "      <td>27.8</td>\n",
       "      <td>-5.206702</td>\n",
       "      <td>-62.191532</td>\n",
       "      <td>56.984831</td>\n",
       "    </tr>\n",
       "    <tr>\n",
       "      <th>1</th>\n",
       "      <td>1</td>\n",
       "      <td>1utg</td>\n",
       "      <td>70</td>\n",
       "      <td>1392</td>\n",
       "      <td>33.8</td>\n",
       "      <td>2.337073</td>\n",
       "      <td>-62.333290</td>\n",
       "      <td>64.670363</td>\n",
       "    </tr>\n",
       "    <tr>\n",
       "      <th>2</th>\n",
       "      <td>2</td>\n",
       "      <td>2zeq</td>\n",
       "      <td>78</td>\n",
       "      <td>1519</td>\n",
       "      <td>34.5</td>\n",
       "      <td>-7.310388</td>\n",
       "      <td>-66.115704</td>\n",
       "      <td>58.805316</td>\n",
       "    </tr>\n",
       "    <tr>\n",
       "      <th>3</th>\n",
       "      <td>3</td>\n",
       "      <td>2uwr</td>\n",
       "      <td>79</td>\n",
       "      <td>1438</td>\n",
       "      <td>33.8</td>\n",
       "      <td>9.941533</td>\n",
       "      <td>-75.902193</td>\n",
       "      <td>85.843726</td>\n",
       "    </tr>\n",
       "    <tr>\n",
       "      <th>4</th>\n",
       "      <td>4</td>\n",
       "      <td>1gvp</td>\n",
       "      <td>87</td>\n",
       "      <td>1764</td>\n",
       "      <td>40.5</td>\n",
       "      <td>-0.145521</td>\n",
       "      <td>-63.846364</td>\n",
       "      <td>63.700843</td>\n",
       "    </tr>\n",
       "  </tbody>\n",
       "</table>\n",
       "</div>"
      ],
      "text/plain": [
       "   Unnamed: 0  name  Length    X1    X2         E          S          L\n",
       "0           0  1ucs      64  1277  27.8 -5.206702 -62.191532  56.984831\n",
       "1           1  1utg      70  1392  33.8  2.337073 -62.333290  64.670363\n",
       "2           2  2zeq      78  1519  34.5 -7.310388 -66.115704  58.805316\n",
       "3           3  2uwr      79  1438  33.8  9.941533 -75.902193  85.843726\n",
       "4           4  1gvp      87  1764  40.5 -0.145521 -63.846364  63.700843"
      ]
     },
     "execution_count": 4,
     "metadata": {},
     "output_type": "execute_result"
    }
   ],
   "source": [
    "file = 'RawData_45.csv'\n",
    "dfRawData45 = pd.read_csv(path+'ML/ '+file)\n",
    "dfRawData45.head()"
   ]
  },
  {
   "cell_type": "code",
   "execution_count": 5,
   "metadata": {},
   "outputs": [
    {
     "data": {
      "text/html": [
       "<div>\n",
       "<style scoped>\n",
       "    .dataframe tbody tr th:only-of-type {\n",
       "        vertical-align: middle;\n",
       "    }\n",
       "\n",
       "    .dataframe tbody tr th {\n",
       "        vertical-align: top;\n",
       "    }\n",
       "\n",
       "    .dataframe thead th {\n",
       "        text-align: right;\n",
       "    }\n",
       "</style>\n",
       "<table border=\"1\" class=\"dataframe\">\n",
       "  <thead>\n",
       "    <tr style=\"text-align: right;\">\n",
       "      <th></th>\n",
       "      <th>Unnamed: 0</th>\n",
       "      <th>name</th>\n",
       "      <th>Length</th>\n",
       "      <th>X1</th>\n",
       "      <th>X2</th>\n",
       "      <th>E</th>\n",
       "      <th>S</th>\n",
       "      <th>L</th>\n",
       "    </tr>\n",
       "  </thead>\n",
       "  <tbody>\n",
       "    <tr>\n",
       "      <th>0</th>\n",
       "      <td>0</td>\n",
       "      <td>1atx_</td>\n",
       "      <td>46</td>\n",
       "      <td>839</td>\n",
       "      <td>21.2</td>\n",
       "      <td>-1.500708</td>\n",
       "      <td>-58.865890</td>\n",
       "      <td>57.365182</td>\n",
       "    </tr>\n",
       "    <tr>\n",
       "      <th>1</th>\n",
       "      <td>1</td>\n",
       "      <td>1agg_</td>\n",
       "      <td>48</td>\n",
       "      <td>851</td>\n",
       "      <td>22.2</td>\n",
       "      <td>-1.797210</td>\n",
       "      <td>-60.767012</td>\n",
       "      <td>58.969802</td>\n",
       "    </tr>\n",
       "    <tr>\n",
       "      <th>2</th>\n",
       "      <td>2</td>\n",
       "      <td>1akhA</td>\n",
       "      <td>49</td>\n",
       "      <td>925</td>\n",
       "      <td>22.4</td>\n",
       "      <td>-5.642586</td>\n",
       "      <td>-53.350390</td>\n",
       "      <td>47.707804</td>\n",
       "    </tr>\n",
       "    <tr>\n",
       "      <th>3</th>\n",
       "      <td>3</td>\n",
       "      <td>1afp_</td>\n",
       "      <td>51</td>\n",
       "      <td>961</td>\n",
       "      <td>22.8</td>\n",
       "      <td>-5.542472</td>\n",
       "      <td>-72.049554</td>\n",
       "      <td>66.507082</td>\n",
       "    </tr>\n",
       "    <tr>\n",
       "      <th>4</th>\n",
       "      <td>4</td>\n",
       "      <td>1apq_</td>\n",
       "      <td>53</td>\n",
       "      <td>946</td>\n",
       "      <td>25.3</td>\n",
       "      <td>-3.719619</td>\n",
       "      <td>-62.522390</td>\n",
       "      <td>58.802771</td>\n",
       "    </tr>\n",
       "  </tbody>\n",
       "</table>\n",
       "</div>"
      ],
      "text/plain": [
       "   Unnamed: 0   name  Length   X1    X2         E          S          L\n",
       "0           0  1atx_      46  839  21.2 -1.500708 -58.865890  57.365182\n",
       "1           1  1agg_      48  851  22.2 -1.797210 -60.767012  58.969802\n",
       "2           2  1akhA      49  925  22.4 -5.642586 -53.350390  47.707804\n",
       "3           3  1afp_      51  961  22.8 -5.542472 -72.049554  66.507082\n",
       "4           4  1apq_      53  946  25.3 -3.719619 -62.522390  58.802771"
      ]
     },
     "execution_count": 5,
     "metadata": {},
     "output_type": "execute_result"
    }
   ],
   "source": [
    "dfAllRD = dfRawData200\n",
    "dfAllRD = dfAllRD.append(dfRawData45, ignore_index=True)\n",
    "dfAllRD.head()"
   ]
  },
  {
   "cell_type": "code",
   "execution_count": 6,
   "metadata": {},
   "outputs": [
    {
     "data": {
      "text/html": [
       "<div>\n",
       "<style scoped>\n",
       "    .dataframe tbody tr th:only-of-type {\n",
       "        vertical-align: middle;\n",
       "    }\n",
       "\n",
       "    .dataframe tbody tr th {\n",
       "        vertical-align: top;\n",
       "    }\n",
       "\n",
       "    .dataframe thead th {\n",
       "        text-align: right;\n",
       "    }\n",
       "</style>\n",
       "<table border=\"1\" class=\"dataframe\">\n",
       "  <thead>\n",
       "    <tr style=\"text-align: right;\">\n",
       "      <th></th>\n",
       "      <th>Unnamed: 0</th>\n",
       "      <th>name</th>\n",
       "      <th>Length</th>\n",
       "      <th>X1</th>\n",
       "      <th>X2</th>\n",
       "      <th>E</th>\n",
       "      <th>S</th>\n",
       "      <th>L</th>\n",
       "    </tr>\n",
       "  </thead>\n",
       "  <tbody>\n",
       "    <tr>\n",
       "      <th>199</th>\n",
       "      <td>199</td>\n",
       "      <td>1a9xA</td>\n",
       "      <td>1058</td>\n",
       "      <td>19726</td>\n",
       "      <td>377.2</td>\n",
       "      <td>-59.249589</td>\n",
       "      <td>-249.714043</td>\n",
       "      <td>190.464454</td>\n",
       "    </tr>\n",
       "    <tr>\n",
       "      <th>112</th>\n",
       "      <td>112</td>\n",
       "      <td>1al3_</td>\n",
       "      <td>237</td>\n",
       "      <td>4677</td>\n",
       "      <td>95.4</td>\n",
       "      <td>-25.014864</td>\n",
       "      <td>-103.690096</td>\n",
       "      <td>78.675232</td>\n",
       "    </tr>\n",
       "    <tr>\n",
       "      <th>198</th>\n",
       "      <td>198</td>\n",
       "      <td>1a8i_</td>\n",
       "      <td>812</td>\n",
       "      <td>15277</td>\n",
       "      <td>293.8</td>\n",
       "      <td>-62.629691</td>\n",
       "      <td>-211.331331</td>\n",
       "      <td>148.701640</td>\n",
       "    </tr>\n",
       "    <tr>\n",
       "      <th>143</th>\n",
       "      <td>143</td>\n",
       "      <td>1a48_</td>\n",
       "      <td>298</td>\n",
       "      <td>5860</td>\n",
       "      <td>120.8</td>\n",
       "      <td>-31.919470</td>\n",
       "      <td>-116.975444</td>\n",
       "      <td>85.055974</td>\n",
       "    </tr>\n",
       "    <tr>\n",
       "      <th>45</th>\n",
       "      <td>45</td>\n",
       "      <td>1ax8_</td>\n",
       "      <td>130</td>\n",
       "      <td>2553</td>\n",
       "      <td>56.3</td>\n",
       "      <td>-11.015857</td>\n",
       "      <td>-84.704006</td>\n",
       "      <td>73.688149</td>\n",
       "    </tr>\n",
       "  </tbody>\n",
       "</table>\n",
       "</div>"
      ],
      "text/plain": [
       "     Unnamed: 0   name  Length     X1     X2          E           S  \\\n",
       "199         199  1a9xA    1058  19726  377.2 -59.249589 -249.714043   \n",
       "112         112  1al3_     237   4677   95.4 -25.014864 -103.690096   \n",
       "198         198  1a8i_     812  15277  293.8 -62.629691 -211.331331   \n",
       "143         143  1a48_     298   5860  120.8 -31.919470 -116.975444   \n",
       "45           45  1ax8_     130   2553   56.3 -11.015857  -84.704006   \n",
       "\n",
       "              L  \n",
       "199  190.464454  \n",
       "112   78.675232  \n",
       "198  148.701640  \n",
       "143   85.055974  \n",
       "45    73.688149  "
      ]
     },
     "execution_count": 6,
     "metadata": {},
     "output_type": "execute_result"
    }
   ],
   "source": [
    "dfAllRandom = shuffle(dfAllRD)\n",
    "dfAllRandom.head()"
   ]
  },
  {
   "cell_type": "code",
   "execution_count": 7,
   "metadata": {},
   "outputs": [],
   "source": [
    "df200 = dfAllRandom[:200]\n",
    "df45 = dfAllRandom[200:]"
   ]
  },
  {
   "cell_type": "code",
   "execution_count": 8,
   "metadata": {},
   "outputs": [],
   "source": [
    "# Normalize and transform the values for the two parameters (X1 - seq, and X2 - pattern)\n",
    "\n",
    "# Train data\n",
    "x1train, x2train = norm(df200.X1, df200.X2)\n",
    "# Test data\n",
    "x1test, x2test = norm(df45.X1, df45.X2)"
   ]
  },
  {
   "cell_type": "code",
   "execution_count": 9,
   "metadata": {},
   "outputs": [],
   "source": [
    "# Create a DF for the training\n",
    "dfTrain = pd.DataFrame()\n",
    "dfTrain[\"x1\"] = x1train[0]\n",
    "dfTrain[\"x2\"] = x2train[0]\n",
    "#dfTrainE[\"y\"] = dfRawData.E.tolist()\n",
    "\n",
    "# Create a DF for testing\n",
    "dfTest = pd.DataFrame()\n",
    "dfTest[\"x1\"] = x1test[0]\n",
    "dfTest[\"x2\"] = x2test[0]"
   ]
  },
  {
   "cell_type": "code",
   "execution_count": 10,
   "metadata": {},
   "outputs": [
    {
     "data": {
      "text/plain": [
       "Lasso(alpha=0.1, copy_X=True, fit_intercept=True, max_iter=1000,\n",
       "   normalize=False, positive=False, precompute=False, random_state=None,\n",
       "   selection='cyclic', tol=0.0001, warm_start=False)"
      ]
     },
     "execution_count": 10,
     "metadata": {},
     "output_type": "execute_result"
    }
   ],
   "source": [
    "# Lasso\n",
    "# Train for E\n",
    "reg = linear_model.Lasso(alpha=0.1)\n",
    "reg.fit(dfTrain, df200.E.tolist())"
   ]
  },
  {
   "cell_type": "code",
   "execution_count": 11,
   "metadata": {},
   "outputs": [],
   "source": [
    "# Lasso predict\n",
    "lassoE = reg.predict(dfTest) "
   ]
  },
  {
   "cell_type": "code",
   "execution_count": 12,
   "metadata": {},
   "outputs": [
    {
     "data": {
      "text/plain": [
       "<matplotlib.axes._subplots.AxesSubplot at 0x162bc2c1c50>"
      ]
     },
     "execution_count": 12,
     "metadata": {},
     "output_type": "execute_result"
    },
    {
     "data": {
      "image/png": "[encoded data removed]",
      "text/plain": [
       "<Figure size 432x288 with 1 Axes>"
      ]
     },
     "metadata": {
      "needs_background": "light"
     },
     "output_type": "display_data"
    }
   ],
   "source": [
    "dfLassoE = pd.DataFrame()\n",
    "dfLassoE[\"E\"] = df45.E.tolist()\n",
    "dfLassoE[\"Epredicted\"] = lassoE.tolist()\n",
    "dfLassoE.plot(style='o')"
   ]
  },
  {
   "cell_type": "code",
   "execution_count": 13,
   "metadata": {},
   "outputs": [
    {
     "data": {
      "text/plain": [
       "Lasso(alpha=0.1, copy_X=True, fit_intercept=True, max_iter=1000,\n",
       "   normalize=False, positive=False, precompute=False, random_state=None,\n",
       "   selection='cyclic', tol=0.0001, warm_start=False)"
      ]
     },
     "execution_count": 13,
     "metadata": {},
     "output_type": "execute_result"
    }
   ],
   "source": [
    "# Train for L\n",
    "reg = linear_model.Lasso(alpha=0.1)\n",
    "reg.fit(dfTrain, df200.L.tolist())"
   ]
  },
  {
   "cell_type": "code",
   "execution_count": 14,
   "metadata": {},
   "outputs": [],
   "source": [
    "# Lasso predict\n",
    "lassoL = reg.predict(dfTest) "
   ]
  },
  {
   "cell_type": "code",
   "execution_count": 15,
   "metadata": {},
   "outputs": [
    {
     "data": {
      "text/plain": [
       "<matplotlib.axes._subplots.AxesSubplot at 0x162bc5f1588>"
      ]
     },
     "execution_count": 15,
     "metadata": {},
     "output_type": "execute_result"
    },
    {
     "data": {
      "image/png": "[encoded data removed]",
      "text/plain": [
       "<Figure size 432x288 with 1 Axes>"
      ]
     },
     "metadata": {
      "needs_background": "light"
     },
     "output_type": "display_data"
    }
   ],
   "source": [
    "dfLassoL = pd.DataFrame()\n",
    "dfLassoL[\"L\"] = df45.L.tolist()\n",
    "dfLassoL[\"Lpredicted\"] = lassoL.tolist()\n",
    "dfLassoL.plot(style='o')"
   ]
  },
  {
   "cell_type": "code",
   "execution_count": 16,
   "metadata": {},
   "outputs": [
    {
     "name": "stderr",
     "output_type": "stream",
     "text": [
      "C:\\Users\\katse\\Anaconda3\\lib\\site-packages\\sklearn\\svm\\base.py:196: FutureWarning: The default value of gamma will change from 'auto' to 'scale' in version 0.22 to account better for unscaled features. Set gamma explicitly to 'auto' or 'scale' to avoid this warning.\n",
      "  \"avoid this warning.\", FutureWarning)\n"
     ]
    },
    {
     "data": {
      "text/plain": [
       "SVR(C=1.0, cache_size=200, coef0=0.0, degree=3, epsilon=0.1,\n",
       "  gamma='auto_deprecated', kernel='rbf', max_iter=-1, shrinking=True,\n",
       "  tol=0.001, verbose=False)"
      ]
     },
     "execution_count": 16,
     "metadata": {},
     "output_type": "execute_result"
    }
   ],
   "source": [
    "# 1.4.2. Regression (Support Vector Machines)\n",
    "# E \n",
    "clf = svm.SVR()\n",
    "clf.fit(dfTrain, df200.E.tolist())"
   ]
  },
  {
   "cell_type": "code",
   "execution_count": 17,
   "metadata": {},
   "outputs": [],
   "source": [
    "svregE = clf.predict(dfTest)"
   ]
  },
  {
   "cell_type": "code",
   "execution_count": 18,
   "metadata": {},
   "outputs": [
    {
     "data": {
      "text/plain": [
       "<matplotlib.axes._subplots.AxesSubplot at 0x162bc21fb38>"
      ]
     },
     "execution_count": 18,
     "metadata": {},
     "output_type": "execute_result"
    },
    {
     "data": {
      "image/png": "[encoded data removed]",
      "text/plain": [
       "<Figure size 432x288 with 1 Axes>"
      ]
     },
     "metadata": {
      "needs_background": "light"
     },
     "output_type": "display_data"
    }
   ],
   "source": [
    "dfsvregE = pd.DataFrame()\n",
    "dfsvregE[\"E\"] = df45.E.tolist()\n",
    "dfsvregE[\"Epredicted\"] = svregE.tolist()\n",
    "dfsvregE.plot(style='o')"
   ]
  },
  {
   "cell_type": "code",
   "execution_count": 19,
   "metadata": {},
   "outputs": [
    {
     "name": "stderr",
     "output_type": "stream",
     "text": [
      "C:\\Users\\katse\\Anaconda3\\lib\\site-packages\\sklearn\\svm\\base.py:196: FutureWarning: The default value of gamma will change from 'auto' to 'scale' in version 0.22 to account better for unscaled features. Set gamma explicitly to 'auto' or 'scale' to avoid this warning.\n",
      "  \"avoid this warning.\", FutureWarning)\n"
     ]
    },
    {
     "data": {
      "text/plain": [
       "SVR(C=0.5, cache_size=200, coef0=0.0, degree=3, epsilon=0.4,\n",
       "  gamma='auto_deprecated', kernel='rbf', max_iter=-1, shrinking=True,\n",
       "  tol=0.001, verbose=False)"
      ]
     },
     "execution_count": 19,
     "metadata": {},
     "output_type": "execute_result"
    }
   ],
   "source": [
    "# L \n",
    "clf = svm.SVR(C=.5,epsilon=0.4, kernel='rbf',)\n",
    "clf.fit(dfTrain, df200.L.tolist())"
   ]
  },
  {
   "cell_type": "code",
   "execution_count": 20,
   "metadata": {},
   "outputs": [],
   "source": [
    "svregL = clf.predict(dfTest)"
   ]
  },
  {
   "cell_type": "code",
   "execution_count": 21,
   "metadata": {},
   "outputs": [
    {
     "data": {
      "text/plain": [
       "<matplotlib.axes._subplots.AxesSubplot at 0x162bc707a90>"
      ]
     },
     "execution_count": 21,
     "metadata": {},
     "output_type": "execute_result"
    },
    {
     "data": {
      "image/png": "[encoded data removed]",
      "text/plain": [
       "<Figure size 432x288 with 1 Axes>"
      ]
     },
     "metadata": {
      "needs_background": "light"
     },
     "output_type": "display_data"
    }
   ],
   "source": [
    "dfsvregL = pd.DataFrame()\n",
    "dfsvregL[\"L\"] = df45.L.tolist()\n",
    "dfsvregL[\"Lpredicted\"] = svregL.tolist()\n",
    "dfsvregL.plot(style='o')"
   ]
  },
  {
   "cell_type": "code",
   "execution_count": 22,
   "metadata": {},
   "outputs": [
    {
     "data": {
      "text/plain": [
       "KNeighborsRegressor(algorithm='auto', leaf_size=30, metric='minkowski',\n",
       "          metric_params=None, n_jobs=None, n_neighbors=2, p=2,\n",
       "          weights='uniform')"
      ]
     },
     "execution_count": 22,
     "metadata": {},
     "output_type": "execute_result"
    }
   ],
   "source": [
    "# 1.6.3. Nearest Neighbors Regression\n",
    "# E\n",
    "neigh = KNeighborsRegressor(n_neighbors=2)\n",
    "neigh.fit(dfTrain, df200.E.tolist())"
   ]
  },
  {
   "cell_type": "code",
   "execution_count": 23,
   "metadata": {},
   "outputs": [],
   "source": [
    "nnrE = neigh.predict(dfTest)"
   ]
  },
  {
   "cell_type": "code",
   "execution_count": 24,
   "metadata": {},
   "outputs": [
    {
     "data": {
      "text/plain": [
       "<matplotlib.axes._subplots.AxesSubplot at 0x162bc768438>"
      ]
     },
     "execution_count": 24,
     "metadata": {},
     "output_type": "execute_result"
    },
    {
     "data": {
      "image/png": "[encoded data removed]",
      "text/plain": [
       "<Figure size 432x288 with 1 Axes>"
      ]
     },
     "metadata": {
      "needs_background": "light"
     },
     "output_type": "display_data"
    }
   ],
   "source": [
    "dfnnrE = pd.DataFrame()\n",
    "dfnnrE[\"E\"] = df45.E.tolist()\n",
    "dfnnrE[\"Epredicted\"] = nnrE.tolist()\n",
    "dfnnrE.plot(style='o')"
   ]
  },
  {
   "cell_type": "code",
   "execution_count": 25,
   "metadata": {},
   "outputs": [
    {
     "data": {
      "text/plain": [
       "KNeighborsRegressor(algorithm='auto', leaf_size=30, metric='minkowski',\n",
       "          metric_params=None, n_jobs=None, n_neighbors=2, p=2,\n",
       "          weights='uniform')"
      ]
     },
     "execution_count": 25,
     "metadata": {},
     "output_type": "execute_result"
    }
   ],
   "source": [
    "# L\n",
    "neigh = KNeighborsRegressor(n_neighbors=2)\n",
    "neigh.fit(dfTrain, df200.L.tolist())"
   ]
  },
  {
   "cell_type": "code",
   "execution_count": 26,
   "metadata": {},
   "outputs": [],
   "source": [
    "nnrL = neigh.predict(dfTest)"
   ]
  },
  {
   "cell_type": "code",
   "execution_count": 27,
   "metadata": {},
   "outputs": [
    {
     "data": {
      "text/plain": [
       "<matplotlib.axes._subplots.AxesSubplot at 0x162bc7d69e8>"
      ]
     },
     "execution_count": 27,
     "metadata": {},
     "output_type": "execute_result"
    },
    {
     "data": {
      "image/png": "[encoded data removed]",
      "text/plain": [
       "<Figure size 432x288 with 1 Axes>"
      ]
     },
     "metadata": {
      "needs_background": "light"
     },
     "output_type": "display_data"
    }
   ],
   "source": [
    "dfnnrL = pd.DataFrame()\n",
    "dfnnrL[\"L\"] = df45.L.tolist()\n",
    "dfnnrL[\"Lpredicted\"] = nnrL.tolist()\n",
    "dfnnrL.plot(style='o')"
   ]
  },
  {
   "cell_type": "code",
   "execution_count": 28,
   "metadata": {},
   "outputs": [],
   "source": [
    "# 1.10.2. Regression - Decisiion Tree  Regresion \n",
    "# E\n",
    "clf = tree.DecisionTreeRegressor()\n",
    "clf = clf.fit(dfTrain, df200.E.tolist())\n",
    "dtreeE = clf.predict(dfTest)"
   ]
  },
  {
   "cell_type": "code",
   "execution_count": 29,
   "metadata": {},
   "outputs": [
    {
     "data": {
      "text/plain": [
       "<matplotlib.axes._subplots.AxesSubplot at 0x162bc858b38>"
      ]
     },
     "execution_count": 29,
     "metadata": {},
     "output_type": "execute_result"
    },
    {
     "data": {
      "image/png": "[encoded data removed]",
      "text/plain": [
       "<Figure size 432x288 with 1 Axes>"
      ]
     },
     "metadata": {
      "needs_background": "light"
     },
     "output_type": "display_data"
    }
   ],
   "source": [
    "dfdtreeE = pd.DataFrame()\n",
    "dfdtreeE[\"E\"] = df45.E.tolist()\n",
    "dfdtreeE[\"Epredicted\"] = dtreeE.tolist()\n",
    "dfdtreeE.plot(style='o')"
   ]
  },
  {
   "cell_type": "code",
   "execution_count": 30,
   "metadata": {},
   "outputs": [],
   "source": [
    "# L\n",
    "clf = tree.DecisionTreeRegressor()\n",
    "clf = clf.fit(dfTrain, df200.L.tolist())\n",
    "dtreeL = clf.predict(dfTest)"
   ]
  },
  {
   "cell_type": "code",
   "execution_count": 31,
   "metadata": {},
   "outputs": [
    {
     "data": {
      "text/plain": [
       "<matplotlib.axes._subplots.AxesSubplot at 0x162bc8c6d68>"
      ]
     },
     "execution_count": 31,
     "metadata": {},
     "output_type": "execute_result"
    },
    {
     "data": {
      "image/png": "[encoded data removed]",
      "text/plain": [
       "<Figure size 432x288 with 1 Axes>"
      ]
     },
     "metadata": {
      "needs_background": "light"
     },
     "output_type": "display_data"
    }
   ],
   "source": [
    "dfdtreeL = pd.DataFrame()\n",
    "dfdtreeL[\"L\"] = df45.L.tolist()\n",
    "dfdtreeL[\"Lpredicted\"] = dtreeL.tolist()\n",
    "dfdtreeL.plot(style='o')"
   ]
  },
  {
   "cell_type": "code",
   "execution_count": null,
   "metadata": {},
   "outputs": [],
   "source": []
  }
 ],
 "metadata": {
  "kernelspec": {
   "display_name": "Python 3",
   "language": "python",
   "name": "python3"
  },
  "language_info": {
   "codemirror_mode": {
    "name": "ipython",
    "version": 3
   },
   "file_extension": ".py",
   "mimetype": "text/x-python",
   "name": "python",
   "nbconvert_exporter": "python",
   "pygments_lexer": "ipython3",
   "version": "3.7.1"
  }
 },
 "nbformat": 4,
 "nbformat_minor": 2
}
